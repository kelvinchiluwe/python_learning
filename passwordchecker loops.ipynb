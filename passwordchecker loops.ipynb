{
 "cells": [
  {
   "cell_type": "code",
   "execution_count": 6,
   "id": "d4ee8621-5fe1-4459-a97a-e5c39e036758",
   "metadata": {},
   "outputs": [
    {
     "name": "stdout",
     "output_type": "stream",
     "text": [
      "0\n",
      "1\n"
     ]
    }
   ],
   "source": [
    "for i in range(2):\n",
    "   print(i)"
   ]
  },
  {
   "cell_type": "code",
   "execution_count": 9,
   "id": "d00bb427-56fa-4a04-a759-8140d97e3d6e",
   "metadata": {},
   "outputs": [
    {
     "name": "stdout",
     "output_type": "stream",
     "text": [
      "3\n",
      "4\n",
      "5\n",
      "6\n"
     ]
    }
   ],
   "source": [
    "for i in range(3,9):\n",
    "    if i==7:\n",
    "        break\n",
    "    else:\n",
    "        print(i)"
   ]
  },
  {
   "cell_type": "code",
   "execution_count": 79,
   "id": "01ff99dd-d1d2-4410-985a-3f2a0c837135",
   "metadata": {},
   "outputs": [
    {
     "name": "stdout",
     "output_type": "stream",
     "text": [
      "welcome\n",
      "welcome\n",
      "welcome\n",
      "welcome\n"
     ]
    }
   ],
   "source": [
    "for password in range(8):\n",
    "    if password==4:\n",
    "        break\n",
    "    else:\n",
    "       print(\"welcome\")"
   ]
  },
  {
   "cell_type": "code",
   "execution_count": 116,
   "id": "cde8adad-8032-4c81-a54c-c4d0c351e31c",
   "metadata": {},
   "outputs": [
    {
     "name": "stdin",
     "output_type": "stream",
     "text": [
      "enter password mmmmmmmmmmmmmmmmmmmmmmmmmmmmmm\n"
     ]
    },
    {
     "name": "stdout",
     "output_type": "stream",
     "text": [
      "should have atleast 8 characters\n"
     ]
    }
   ],
   "source": [
    "password=input(\"enter password\")\n",
    "uppercase_letter=False\n",
    "one_digit=False\n",
    "lowercase_letter=False\n",
    "char_length=0\n",
    "for char in password:\n",
    "    char_length+=1\n",
    "    if char<='A' or char<='Z':\n",
    "        uppercase_letter=True\n",
    "    elif char<='a' or char<='z':\n",
    "        lowercase=True\n",
    "    elif  '0'<=digit<='9': \n",
    "        one_digit=True\n",
    "if char_length>8:\n",
    "        print('should have atleast 8 characters')\n",
    "elif uppercase_letter and lowercase_letter and one_digit:\n",
    "        print('strong')\n",
    "else:\n",
    "        print('try again')"
   ]
  },
  {
   "cell_type": "code",
   "execution_count": 6,
   "id": "33b95078-0579-4538-9238-6c9c72e66064",
   "metadata": {},
   "outputs": [
    {
     "name": "stdin",
     "output_type": "stream",
     "text": [
      "enter name kelvin\n",
      "enter gender male\n",
      "enter nationality burundian\n"
     ]
    },
    {
     "name": "stdout",
     "output_type": "stream",
     "text": [
      "not allowed\n"
     ]
    }
   ],
   "source": [
    "name=input('enter name')\n",
    "gender=input('enter gender')\n",
    "nationality=input('enter nationality')\n",
    "if gender=='male' and nationality=='Malawian':\n",
    "    print('am',name,'and',gender, 'and also',nationality)\n",
    "elif gender=='female'and nationality=='Burundian':\n",
    "    print('am',name,'and my gender is',gender,'am',nationality)\n",
    "else:\n",
    "      print('not allowed')"
   ]
  },
  {
   "cell_type": "code",
   "execution_count": null,
   "id": "ea11dbc7-81c7-418e-918f-21a8283153f8",
   "metadata": {},
   "outputs": [],
   "source": []
  }
 ],
 "metadata": {
  "kernelspec": {
   "display_name": "Python 3 (ipykernel)",
   "language": "python",
   "name": "python3"
  },
  "language_info": {
   "codemirror_mode": {
    "name": "ipython",
    "version": 3
   },
   "file_extension": ".py",
   "mimetype": "text/x-python",
   "name": "python",
   "nbconvert_exporter": "python",
   "pygments_lexer": "ipython3",
   "version": "3.13.2"
  }
 },
 "nbformat": 4,
 "nbformat_minor": 5
}
