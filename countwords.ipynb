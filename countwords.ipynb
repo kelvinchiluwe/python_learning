{
 "cells": [
  {
   "cell_type": "code",
   "execution_count": 47,
   "id": "f3ad5c68-10cf-4b63-8ac4-fe666a0d4e5e",
   "metadata": {},
   "outputs": [
    {
     "name": "stdin",
     "output_type": "stream",
     "text": [
      "enter words recombobulation\n"
     ]
    },
    {
     "name": "stdout",
     "output_type": "stream",
     "text": [
      "15\n"
     ]
    }
   ],
   "source": [
    "words=input('enter words')\n",
    "print(len(words))"
   ]
  },
  {
   "cell_type": "code",
   "execution_count": null,
   "id": "8880ec99-f235-40b7-ae31-01b272d7714e",
   "metadata": {},
   "outputs": [],
   "source": [
    "words=input('enter your word:')\n",
    "count=0\n",
    "for word in words:\n",
    "    if word==' ' or words=='\\n':\n",
    "        count+=1\n",
    "        if word=='':\n",
    "            count-=1\n",
    "        # word=True\n",
    "if word:\n",
    "    print(count+1)\n",
    "        "
   ]
  },
  {
   "cell_type": "code",
   "execution_count": null,
   "id": "9bb46a55-220c-4e65-8655-283b3ac1b50c",
   "metadata": {},
   "outputs": [],
   "source": [
    "words=input('enter words or paragraphs:')\n"
   ]
  }
 ],
 "metadata": {
  "kernelspec": {
   "display_name": "Python 3 (ipykernel)",
   "language": "python",
   "name": "python3"
  },
  "language_info": {
   "codemirror_mode": {
    "name": "ipython",
    "version": 3
   },
   "file_extension": ".py",
   "mimetype": "text/x-python",
   "name": "python",
   "nbconvert_exporter": "python",
   "pygments_lexer": "ipython3",
   "version": "3.13.2"
  }
 },
 "nbformat": 4,
 "nbformat_minor": 5
}
