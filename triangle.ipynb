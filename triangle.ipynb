{
 "cells": [
  {
   "cell_type": "code",
   "execution_count": 82,
   "id": "f7c6886f-243a-45c9-8747-20e85e61eee2",
   "metadata": {},
   "outputs": [
    {
     "name": "stdout",
     "output_type": "stream",
     "text": [
      "kilometer to mile conveter\n"
     ]
    },
    {
     "name": "stdin",
     "output_type": "stream",
     "text": [
      "enter kilometer 7\n"
     ]
    },
    {
     "name": "stdout",
     "output_type": "stream",
     "text": [
      "the 7 kilometer is 4.2 in miles\n"
     ]
    }
   ],
   "source": [
    "print('kilometer to mile conveter')\n",
    "km=int(input('enter kilometer'))\n",
    "# km=5\n",
    "# kminfloat=float(km)\n",
    "miles=km*float(0.6)\n",
    "# print(miles)\n",
    "print('the',km,'kilometer is',miles,'in miles')"
   ]
  },
  {
   "cell_type": "code",
   "execution_count": 19,
   "id": "8ab4cde3-f2d4-4396-9aa0-f37fe12cebc8",
   "metadata": {},
   "outputs": [
    {
     "name": "stdout",
     "output_type": "stream",
     "text": [
      "*  *  *  *  *  \n",
      "*  *  *  *  *  \n",
      "*  *  *  *  *  \n",
      "*  *  *  *  *  \n",
      "*  *  *  *  *  \n"
     ]
    }
   ],
   "source": [
    "n=5\n",
    "for i in range(n):\n",
    "    for j in range(n):\n",
    "        print('*', end='  ')\n",
    "    print()"
   ]
  },
  {
   "cell_type": "code",
   "execution_count": 38,
   "id": "b22e8613-d133-4288-b309-ad74c16abf17",
   "metadata": {},
   "outputs": [
    {
     "name": "stdout",
     "output_type": "stream",
     "text": [
      "$ $ $ $ $ \n",
      "$ $ $ $ \n",
      "$ $ $ \n",
      "$ $ \n",
      "$ \n"
     ]
    }
   ],
   "source": [
    "n=5\n",
    "for i in range(n):\n",
    "    for j in range(i,n):\n",
    "        print('$', end=' ')\n",
    "    print()\n"
   ]
  },
  {
   "cell_type": "code",
   "execution_count": 29,
   "id": "20960373-d574-41b9-95d3-024e1d7337eb",
   "metadata": {},
   "outputs": [
    {
     "name": "stdout",
     "output_type": "stream",
     "text": [
      "* \n",
      "* * \n",
      "* * * \n",
      "* * * * \n",
      "* * * * * \n"
     ]
    }
   ],
   "source": [
    "n=5\n",
    "for i in range(n):\n",
    "    for j in range(i+1):\n",
    "        print('*', end=' ')\n",
    "    print()    \n"
   ]
  },
  {
   "cell_type": "code",
   "execution_count": 11,
   "id": "0ebce8a3-0715-4587-9186-84c3f905ff21",
   "metadata": {},
   "outputs": [
    {
     "name": "stdout",
     "output_type": "stream",
     "text": [
      "8\n",
      "88\n",
      "888\n",
      "8888\n",
      "88888\n",
      "*****\n",
      "****\n",
      "***\n",
      "**\n",
      "*\n"
     ]
    }
   ],
   "source": [
    "n=5\n",
    "for i in range(n):\n",
    "    for j in range(i+1):\n",
    "        print('8', end='')\n",
    "    print()    \n",
    "for i in range(n):\n",
    "    for j in range(i,n):\n",
    "        print('*', end='')\n",
    "    print()"
   ]
  },
  {
   "cell_type": "code",
   "execution_count": 87,
   "id": "eb3be5e0-3bf9-4da6-901c-da3da5444a29",
   "metadata": {},
   "outputs": [
    {
     "name": "stdout",
     "output_type": "stream",
     "text": [
      "*\n",
      "**\n",
      "***\n",
      "****\n",
      "*****\n"
     ]
    }
   ],
   "source": [
    "# \n",
    "n=5\n",
    "for i in range(n):\n",
    "    for j in range(i,n):\n",
    "        print('',end='')\n",
    "for i in range(n):\n",
    "    for j in range(i+1):\n",
    "        print('*',end='')\n",
    "    print()"
   ]
  },
  {
   "cell_type": "code",
   "execution_count": 85,
   "id": "b58a359e-36f3-46d8-a02f-d1153c385157",
   "metadata": {},
   "outputs": [
    {
     "name": "stdout",
     "output_type": "stream",
     "text": [
      "[1*1=1][1*2=2][1*3=3][1*4=4][1*5=5][1*6=6][1*7=7][1*8=8][1*9=9][1*10=10][1*11=11][1*12=12]\n",
      "[2*1=2][2*2=4][2*3=6][2*4=8][2*5=10][2*6=12][2*7=14][2*8=16][2*9=18][2*10=20][2*11=22][2*12=24]\n",
      "[3*1=3][3*2=6][3*3=9][3*4=12][3*5=15][3*6=18][3*7=21][3*8=24][3*9=27][3*10=30][3*11=33][3*12=36]\n",
      "[4*1=4][4*2=8][4*3=12][4*4=16][4*5=20][4*6=24][4*7=28][4*8=32][4*9=36][4*10=40][4*11=44][4*12=48]\n",
      "[5*1=5][5*2=10][5*3=15][5*4=20][5*5=25][5*6=30][5*7=35][5*8=40][5*9=45][5*10=50][5*11=55][5*12=60]\n",
      "[6*1=6][6*2=12][6*3=18][6*4=24][6*5=30][6*6=36][6*7=42][6*8=48][6*9=54][6*10=60][6*11=66][6*12=72]\n",
      "[7*1=7][7*2=14][7*3=21][7*4=28][7*5=35][7*6=42][7*7=49][7*8=56][7*9=63][7*10=70][7*11=77][7*12=84]\n",
      "[8*1=8][8*2=16][8*3=24][8*4=32][8*5=40][8*6=48][8*7=56][8*8=64][8*9=72][8*10=80][8*11=88][8*12=96]\n",
      "[9*1=9][9*2=18][9*3=27][9*4=36][9*5=45][9*6=54][9*7=63][9*8=72][9*9=81][9*10=90][9*11=99][9*12=108]\n",
      "[10*1=10][10*2=20][10*3=30][10*4=40][10*5=50][10*6=60][10*7=70][10*8=80][10*9=90][10*10=100][10*11=110][10*12=120]\n",
      "[11*1=11][11*2=22][11*3=33][11*4=44][11*5=55][11*6=66][11*7=77][11*8=88][11*9=99][11*10=110][11*11=121][11*12=132]\n",
      "[12*1=12][12*2=24][12*3=36][12*4=48][12*5=60][12*6=72][12*7=84][12*8=96][12*9=108][12*10=120][12*11=132][12*12=144]\n"
     ]
    }
   ],
   "source": [
    "for i in range(1,13):\n",
    "    for j in range(1,13):\n",
    "        print(f'[{i}*{j}={i*j}]',end='')\n",
    "    print()"
   ]
  },
  {
   "cell_type": "code",
   "execution_count": 60,
   "id": "d56feff0-69d4-47a7-a11d-52366a98a590",
   "metadata": {},
   "outputs": [
    {
     "name": "stdout",
     "output_type": "stream",
     "text": [
      "20\n"
     ]
    }
   ],
   "source": [
    "k=int(4)\n",
    "j=int(5)\n",
    "print(k*j)\n"
   ]
  },
  {
   "cell_type": "code",
   "execution_count": null,
   "id": "41d9f3e6-78e5-4b27-bcef-f311f01e7325",
   "metadata": {},
   "outputs": [],
   "source": []
  }
 ],
 "metadata": {
  "kernelspec": {
   "display_name": "Python 3 (ipykernel)",
   "language": "python",
   "name": "python3"
  },
  "language_info": {
   "codemirror_mode": {
    "name": "ipython",
    "version": 3
   },
   "file_extension": ".py",
   "mimetype": "text/x-python",
   "name": "python",
   "nbconvert_exporter": "python",
   "pygments_lexer": "ipython3",
   "version": "3.13.2"
  }
 },
 "nbformat": 4,
 "nbformat_minor": 5
}
