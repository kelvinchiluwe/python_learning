{
 "cells": [
  {
   "cell_type": "code",
   "execution_count": 15,
   "id": "b99138da-2f4d-4dc1-b3a7-3a7266d907d0",
   "metadata": {},
   "outputs": [
    {
     "name": "stdin",
     "output_type": "stream",
     "text": [
      "enter side digit 7\n",
      "enter digit 7\n",
      "enter digit 7\n"
     ]
    },
    {
     "ename": "TypeError",
     "evalue": "'str' object is not callable",
     "output_type": "error",
     "traceback": [
      "\u001b[1;31m---------------------------------------------------------------------------\u001b[0m",
      "\u001b[1;31mTypeError\u001b[0m                                 Traceback (most recent call last)",
      "Cell \u001b[1;32mIn[15], line 5\u001b[0m\n\u001b[0;32m      3\u001b[0m opposite\u001b[38;5;241m=\u001b[39m\u001b[38;5;28mint\u001b[39m(\u001b[38;5;28minput\u001b[39m(\u001b[38;5;124m'\u001b[39m\u001b[38;5;124menter digit\u001b[39m\u001b[38;5;124m'\u001b[39m))\n\u001b[0;32m      4\u001b[0m \u001b[38;5;28;01mif\u001b[39;00m  hypotenuse\u001b[38;5;241m==\u001b[39madjacent\u001b[38;5;241m==\u001b[39mopposite:\n\u001b[1;32m----> 5\u001b[0m     \u001b[38;5;28;43mprint\u001b[39;49m\u001b[43m(\u001b[49m\u001b[38;5;124;43m'\u001b[39;49m\u001b[38;5;124;43mequilateral\u001b[39;49m\u001b[38;5;124;43m'\u001b[39;49m\u001b[43m)\u001b[49m\n\u001b[0;32m      6\u001b[0m \u001b[38;5;28;01melif\u001b[39;00m hypotenuse\u001b[38;5;241m==\u001b[39madjacent \u001b[38;5;129;01mor\u001b[39;00m hypotenus\u001b[38;5;241m==\u001b[39mopposite \u001b[38;5;129;01mor\u001b[39;00m adjacent\u001b[38;5;241m==\u001b[39mopposite:\n\u001b[0;32m      7\u001b[0m     \u001b[38;5;28mprint\u001b[39m(\u001b[38;5;124m'\u001b[39m\u001b[38;5;124miscosceles\u001b[39m\u001b[38;5;124m'\u001b[39m)\n",
      "\u001b[1;31mTypeError\u001b[0m: 'str' object is not callable"
     ]
    }
   ],
   "source": [
    "hypotenuse=int(input(\"enter side digit\"))\n",
    "adjacent=int(input('enter digit'))\n",
    "opposite=int(input('enter digit'))\n",
    "if  hypotenuse==adjacent==opposite:\n",
    "    print('equilateral')\n",
    "elif hypotenuse==adjacent or hypotenus==opposite or adjacent==opposite:\n",
    "    print('iscosceles')\n",
    "elif hypotenuse!=adjacent!=opposite:\n",
    "    print(\"scalene\")\n",
    "else:\n",
    "    print(\"enter digits\")"
   ]
  },
  {
   "cell_type": "code",
   "execution_count": null,
   "id": "eb247971-d7bf-4c1d-88be-5969c2b90a4a",
   "metadata": {},
   "outputs": [],
   "source": [
    "wage=(\"F. 7000Age>=18 and Age<30 M. 8000Age>=18 and Age<30 F.9000Age>=30 and Age<40 M. 10000Age>=30 and Age<=40\")\n",
    "Age=int(input(\"enter your age\"))\n",
    "sex=input('enter sex M or F').upper()\n",
    "wage=int(input(\"enter suggested wage\"))\n",
    "if Age>=18 and Age<30: \n",
    "    print('true')\n",
    "elif Age>=30 and Age<=40: \n",
    "    print('true')\n",
    "else:\n",
    "    print(\"choose suggested\")"
   ]
  },
  {
   "cell_type": "code",
   "execution_count": 19,
   "id": "80f3da62-e455-42d5-8194-80f371cf3c31",
   "metadata": {},
   "outputs": [
    {
     "name": "stdin",
     "output_type": "stream",
     "text": [
      "enter guesed number 3\n"
     ]
    },
    {
     "ename": "TypeError",
     "evalue": "'<' not supported between instances of 'str' and 'int'",
     "output_type": "error",
     "traceback": [
      "\u001b[1;31m---------------------------------------------------------------------------\u001b[0m",
      "\u001b[1;31mTypeError\u001b[0m                                 Traceback (most recent call last)",
      "Cell \u001b[1;32mIn[19], line 7\u001b[0m\n\u001b[0;32m      5\u001b[0m    \u001b[38;5;28mprint\u001b[39m(\u001b[38;5;124m\"\u001b[39m\u001b[38;5;124mu won\u001b[39m\u001b[38;5;124m\"\u001b[39m)\n\u001b[0;32m      6\u001b[0m    \u001b[38;5;28;01mbreak\u001b[39;00m\n\u001b[1;32m----> 7\u001b[0m \u001b[38;5;28;01melif\u001b[39;00m \u001b[43mkelvin\u001b[49m\u001b[38;5;241;43m<\u001b[39;49m\u001b[38;5;241;43m3\u001b[39;49m:\n\u001b[0;32m      8\u001b[0m     \u001b[38;5;28mprint\u001b[39m(\u001b[38;5;124m\"\u001b[39m\u001b[38;5;124mtry again\u001b[39m\u001b[38;5;124m\"\u001b[39m)\n\u001b[0;32m      9\u001b[0m \u001b[38;5;28;01melif\u001b[39;00m kelvin\u001b[38;5;241m<\u001b[39m\u001b[38;5;241m3\u001b[39m:\n",
      "\u001b[1;31mTypeError\u001b[0m: '<' not supported between instances of 'str' and 'int'"
     ]
    }
   ],
   "source": [
    "kelvin=3\n",
    "while kelvin<=3:\n",
    "    kelvin=(input('enter guesed number'))\n",
    "    if kelvin==3:\n",
    "       print(\"u won\")\n",
    "       break\n",
    "    elif kelvin<3:\n",
    "        print(\"try again\")\n",
    "    elif kelvin<3:\n",
    "        print(\"close try again\")\n",
    "else:\n",
    "   print('invalid guessed number')"
   ]
  },
  {
   "cell_type": "code",
   "execution_count": 16,
   "id": "27038426-4226-4b71-801a-bd35be5841c8",
   "metadata": {},
   "outputs": [],
   "source": [
    "para=\"hello takenolab students class ai\"\n",
    "count=0\n",
    "for char in para:\n",
    "    if char=='/n':\n",
    "        print(f'{count}')"
   ]
  },
  {
   "cell_type": "code",
   "execution_count": 17,
   "id": "cb1fea32-32db-4081-8137-6c96c6796f55",
   "metadata": {},
   "outputs": [],
   "source": [
    "print='hello'"
   ]
  },
  {
   "cell_type": "code",
   "execution_count": null,
   "id": "fed527d4-1049-4b5f-b430-1ea9e278a984",
   "metadata": {},
   "outputs": [],
   "source": []
  }
 ],
 "metadata": {
  "kernelspec": {
   "display_name": "Python 3 (ipykernel)",
   "language": "python",
   "name": "python3"
  },
  "language_info": {
   "codemirror_mode": {
    "name": "ipython",
    "version": 3
   },
   "file_extension": ".py",
   "mimetype": "text/x-python",
   "name": "python",
   "nbconvert_exporter": "python",
   "pygments_lexer": "ipython3",
   "version": "3.13.2"
  }
 },
 "nbformat": 4,
 "nbformat_minor": 5
}
