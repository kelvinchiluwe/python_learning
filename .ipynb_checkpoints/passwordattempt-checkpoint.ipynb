{
 "cells": [
  {
   "cell_type": "code",
   "execution_count": null,
   "id": "eace293b-25c9-4757-8fa3-e8e5b476ea49",
   "metadata": {},
   "outputs": [],
   "source": [
    "name=input('enter your name')\n",
    "for char in range(3):\n",
    "    if name!='kelvin':\n",
    "        print(input('try again'))\n",
    "    elif name=='kelvin':\n",
    "        print('welcome')\n",
    "        break\n",
    "        \n",
    "    \n",
    "        "
   ]
  },
  {
   "cell_type": "code",
   "execution_count": null,
   "id": "68a781c2-be37-481b-a37c-5b3c5b2ac8b9",
   "metadata": {},
   "outputs": [],
   "source": [
    "name=input('enter your name')\n",
    "password=input(\"enter your pass\")\n",
    "for char in range(3):\n",
    "    if name!='kelvin' and password!=1234:\n",
    "        print(input('try again'))\n",
    "        for char in range(3):\n",
    "            if name=='kelvin' and password==1234:\n",
    "                print('allowed')\n",
    "                break"
   ]
  },
  {
   "cell_type": "code",
   "execution_count": null,
   "id": "93342b93-1678-4d1b-8d29-1679792a84b5",
   "metadata": {},
   "outputs": [],
   "source": [
    "attempt=1\n",
    "while attempt<=3:\n",
    "    pin=input('enter your pin')\n",
    "    attempt+=1\n",
    "    if pin=='1234':\n",
    "        print('welcome')\n",
    "        break\n",
    "    else:\n",
    "        print('wrong pin')"
   ]
  },
  {
   "cell_type": "code",
   "execution_count": 1,
   "id": "c2a08bb2-ed24-41b7-9946-e7b75c0f77d7",
   "metadata": {},
   "outputs": [
    {
     "name": "stdin",
     "output_type": "stream",
     "text": [
      "type your password 678\n"
     ]
    },
    {
     "name": "stdout",
     "output_type": "stream",
     "text": [
      "wrong password\n",
      "attempt 2\n"
     ]
    },
    {
     "name": "stdin",
     "output_type": "stream",
     "text": [
      "type your password 89\n"
     ]
    },
    {
     "name": "stdout",
     "output_type": "stream",
     "text": [
      "wrong password\n",
      "attempt 1\n"
     ]
    },
    {
     "name": "stdin",
     "output_type": "stream",
     "text": [
      "type your password 89\n"
     ]
    },
    {
     "name": "stdout",
     "output_type": "stream",
     "text": [
      "wrong password\n",
      "attempt 0\n",
      "system block\n"
     ]
    }
   ],
   "source": [
    "password=123456\n",
    "attempt=3\n",
    "while True:\n",
    "    user_password=input(\"type your password\")\n",
    "    if password==user_password:\n",
    "        print(\"welcome\")\n",
    "    else:\n",
    "        print(\"wrong password\")\n",
    "        attempt-=1\n",
    "        print(\"attempt\",attempt)\n",
    "        if attempt==0:\n",
    "            print(\"system block\")\n",
    "            break\n"
   ]
  },
  {
   "cell_type": "code",
   "execution_count": null,
   "id": "4d888101-c400-41fa-9ea1-9d175bf93c4a",
   "metadata": {},
   "outputs": [],
   "source": []
  }
 ],
 "metadata": {
  "kernelspec": {
   "display_name": "Python 3 (ipykernel)",
   "language": "python",
   "name": "python3"
  },
  "language_info": {
   "codemirror_mode": {
    "name": "ipython",
    "version": 3
   },
   "file_extension": ".py",
   "mimetype": "text/x-python",
   "name": "python",
   "nbconvert_exporter": "python",
   "pygments_lexer": "ipython3",
   "version": "3.13.2"
  }
 },
 "nbformat": 4,
 "nbformat_minor": 5
}
