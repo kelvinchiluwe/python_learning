{
 "cells": [
  {
   "cell_type": "code",
   "execution_count": 3,
   "id": "e2dfba65-69ac-4877-905a-4dcb3f24b3ba",
   "metadata": {},
   "outputs": [
    {
     "name": "stdout",
     "output_type": "stream",
     "text": [
      "4.0 15.0\n"
     ]
    }
   ],
   "source": [
    "a=15\n",
    "b=4\n",
    "a=a*b\n",
    "b=a/b\n",
    "a=a/b\n",
    "print(a,b)"
   ]
  },
  {
   "cell_type": "code",
   "execution_count": 4,
   "id": "ae370bfa-c046-4055-9c6e-5f6e360a1b89",
   "metadata": {},
   "outputs": [
    {
     "name": "stdout",
     "output_type": "stream",
     "text": [
      "12.0 4.0\n"
     ]
    }
   ],
   "source": [
    "c=12\n",
    "m=4\n",
    "c=c*m\n",
    "m=c/m\n",
    "c=c/m\n",
    "print(m,c)\n"
   ]
  },
  {
   "cell_type": "code",
   "execution_count": 8,
   "id": "6e868e4d-410e-48c9-94d6-b2819971e173",
   "metadata": {},
   "outputs": [
    {
     "name": "stdin",
     "output_type": "stream",
     "text": [
      "value value\n"
     ]
    }
   ],
   "source": [
    "place=input('value')\n"
   ]
  },
  {
   "cell_type": "code",
   "execution_count": 10,
   "id": "d32dd993-3d49-458a-ab27-77e03b0d2f44",
   "metadata": {},
   "outputs": [
    {
     "name": "stdin",
     "output_type": "stream",
     "text": [
      "value 100\n",
      "value one hundred\n"
     ]
    }
   ],
   "source": [
    "value=input('value')\n",
    "value=input('value')"
   ]
  },
  {
   "cell_type": "code",
   "execution_count": 11,
   "id": "1ed97512-da4c-479a-a215-74d5142bf05c",
   "metadata": {},
   "outputs": [
    {
     "name": "stdin",
     "output_type": "stream",
     "text": [
      "value 5\n",
      "value 7\n"
     ]
    },
    {
     "name": "stdout",
     "output_type": "stream",
     "text": [
      "7 5\n"
     ]
    }
   ],
   "source": [
    "x=int(input('value'))\n",
    "y=int(input('value'))\n",
    "x,y=y,x\n",
    "print(x,y)\n"
   ]
  },
  {
   "cell_type": "code",
   "execution_count": 1,
   "id": "7fc9f08c-af71-4326-b80a-68b23d1a35f6",
   "metadata": {},
   "outputs": [
    {
     "name": "stdin",
     "output_type": "stream",
     "text": [
      "value 28\n",
      "value temperature>30\n"
     ]
    }
   ],
   "source": [
    "temperature=input('value')\n",
    "ishot=input('value')"
   ]
  },
  {
   "cell_type": "code",
   "execution_count": 3,
   "id": "a30e9c7a-5f71-4b01-9c54-2bb7b4caf5ca",
   "metadata": {},
   "outputs": [
    {
     "name": "stdin",
     "output_type": "stream",
     "text": [
      "value 75.5\n",
      "value in words seventy-five\n"
     ]
    }
   ],
   "source": [
    "weight=input('value')\n",
    "weight=input('value in words')\n"
   ]
  },
  {
   "cell_type": "code",
   "execution_count": 4,
   "id": "743ec1a8-0ed2-4f75-aa3c-98329489ad8f",
   "metadata": {},
   "outputs": [
    {
     "name": "stdin",
     "output_type": "stream",
     "text": [
      "COUNTRY Canada\n",
      "Country Mexico\n"
     ]
    }
   ],
   "source": [
    "COUNTRY=input('COUNTRY')\n",
    "Country=input('Country')"
   ]
  },
  {
   "cell_type": "code",
   "execution_count": 26,
   "id": "c54a44fb-8ec2-41d3-8634-896d39f9fa60",
   "metadata": {},
   "outputs": [
    {
     "name": "stdin",
     "output_type": "stream",
     "text": [
      "your age 18\n"
     ]
    }
   ],
   "source": [
    " age=input('your age')\n",
    "if age == 18:\n",
    "    print('ur welcome')\n",
    "    "
   ]
  },
  {
   "cell_type": "code",
   "execution_count": 13,
   "id": "9d09b8ec-91ed-4920-8a38-eb615f898067",
   "metadata": {},
   "outputs": [
    {
     "name": "stdin",
     "output_type": "stream",
     "text": [
      "class subject number Chemistry 101\n"
     ]
    }
   ],
   "source": [
    "Class=input('class subject number')\n"
   ]
  },
  {
   "cell_type": "code",
   "execution_count": 2,
   "id": "bf8361d0-07e0-42c9-8bf1-5fc4435fbcc2",
   "metadata": {},
   "outputs": [
    {
     "name": "stdout",
     "output_type": "stream",
     "text": [
      "1.python\n",
      "2.java\n",
      "3.exit program...\n"
     ]
    },
    {
     "name": "stdin",
     "output_type": "stream",
     "text": [
      "enter your choice 1\n"
     ]
    },
    {
     "name": "stdout",
     "output_type": "stream",
     "text": [
      "welcome to python\n",
      "1.python\n",
      "2.java\n",
      "3.exit program...\n"
     ]
    },
    {
     "name": "stdin",
     "output_type": "stream",
     "text": [
      "enter your choice 2\n"
     ]
    },
    {
     "name": "stdout",
     "output_type": "stream",
     "text": [
      "welcome to java\n",
      "1.python\n",
      "2.java\n",
      "3.exit program...\n"
     ]
    },
    {
     "name": "stdin",
     "output_type": "stream",
     "text": [
      "enter your choice 3\n"
     ]
    },
    {
     "name": "stdout",
     "output_type": "stream",
     "text": [
      "exit\n"
     ]
    }
   ],
   "source": [
    "# type: 1. python 2. java \n",
    "while True:\n",
    "    print('1.python')\n",
    "    print('2.java')\n",
    "    print('3.exit program...')\n",
    "    choice=int(input('enter your choice'))\n",
    "    if choice==1:\n",
    "        print('welcome to python')\n",
    "    elif choice==2:\n",
    "        print('welcome to java')\n",
    "    elif choice==3:\n",
    "        print('exit')\n",
    "        break\n",
    "    else:\n",
    "        print('invalid choice')\n",
    "        # break\n",
    "\n"
   ]
  },
  {
   "cell_type": "code",
   "execution_count": null,
   "id": "4e1f9cb2-383e-43f6-8279-bb8de4154787",
   "metadata": {},
   "outputs": [],
   "source": []
  },
  {
   "cell_type": "code",
   "execution_count": 3,
   "id": "11804ddb-3154-49de-a031-e5cd16c536da",
   "metadata": {},
   "outputs": [
    {
     "name": "stdout",
     "output_type": "stream",
     "text": [
      "*211#\n"
     ]
    },
    {
     "name": "stdin",
     "output_type": "stream",
     "text": [
      "enter code *211#\n"
     ]
    },
    {
     "name": "stdout",
     "output_type": "stream",
     "text": [
      "1.buy_irtime 2.send_money 3.make_payments 4.withdraw_money 5.financial_service 6.bank 7.account/pin 8.MANEB 10.exit program\n"
     ]
    },
    {
     "name": "stdin",
     "output_type": "stream",
     "text": [
      "enter choice 1\n"
     ]
    },
    {
     "name": "stdout",
     "output_type": "stream",
     "text": [
      "1.voice_bundle 2.data_bundle 3.sms_bundle\n"
     ]
    },
    {
     "name": "stdin",
     "output_type": "stream",
     "text": [
      "enter choice 2\n",
      "enter amount 2000\n"
     ]
    },
    {
     "name": "stdout",
     "output_type": "stream",
     "text": [
      "data purchased successfully\n",
      "1.buy_irtime 2.send_money 3.make_payments 4.withdraw_money 5.financial_service 6.bank 7.account/pin 8.MANEB 10.exit program\n"
     ]
    },
    {
     "name": "stdin",
     "output_type": "stream",
     "text": [
      "enter choice 10\n"
     ]
    },
    {
     "name": "stdout",
     "output_type": "stream",
     "text": [
      "program exited!\n"
     ]
    }
   ],
   "source": [
    "balance=20000\n",
    "print('*211#')\n",
    "code=input('enter code')\n",
    "# while True:\n",
    "if code=='*211#':\n",
    "    while True:\n",
    "        print('1.buy_irtime 2.send_money 3.make_payments 4.withdraw_money 5.financial_service 6.bank 7.account/pin 8.MANEB 10.exit program')\n",
    "        menu=int(input('enter choice'))\n",
    "        if menu==1:\n",
    "            print('1.voice_bundle 2.data_bundle 3.sms_bundle')\n",
    "            choice=int(input('enter choice'))\n",
    "            if choice==1:\n",
    "                voice_bundle=int(input('enter amount'))\n",
    "                print('voice-bundle purchased successfully')\n",
    "            elif choice==2:\n",
    "                data=int(input('enter amount'))\n",
    "                print('data purchased successfully')\n",
    "            elif choice==3:\n",
    "                sms=int(input('sms purchased successfuly'))\n",
    "            else:\n",
    "                print('invalid input')\n",
    "        elif menu==2:\n",
    "            phone_number=str(input('enter phon number'))\n",
    "            amount=int(input('enter amount'))\n",
    "            pin=int(input('enter password'))\n",
    "            if pin==1234:\n",
    "                print(f'k{amount} sent to {phone_number} successfully')\n",
    "            else:\n",
    "                print('wrong password')\n",
    "        elif menu==3:\n",
    "            print('1.make_payment 2.retailer_stock_purchase 3.retailer_purchase_new 4.buyGoodsServices')\n",
    "            option=int(input('enter option'))\n",
    "            if password==1234:\n",
    "                print('payment or stock_purchused')\n",
    "            else:\n",
    "                print('payment_failed')\n",
    "        elif menu==4:\n",
    "            withdraw_money=int(input('enter agent code'))\n",
    "            amount=int(input('enter amount'))\n",
    "            if pin==1234:\n",
    "                print(f'k{amount} sent succsessfuly')\n",
    "            else:\n",
    "                print('wrong pin!')\n",
    "        elif menu==5:\n",
    "            print('1.kutchova_loan 2.phuka 3.limodzi_insurance')\n",
    "            option=int(input('enter optin'))\n",
    "            if option==1:\n",
    "                print('register to get loan')\n",
    "            elif option==2:\n",
    "                print('phuka registered')\n",
    "            elif option==3:\n",
    "                print(' limodzi insurance registered')\n",
    "            else:\n",
    "                print('wrong option!')\n",
    "        elif menu==6:\n",
    "            print('1.ECO 2.FDH 3.First Capital 4.NBS 5.standard 6.NB 7.FINCA 8.CDH 9.Centenery 10.National_switch 11.NBS old')\n",
    "            Banks=int(input('enter option'))\n",
    "            if option==1 or option==2 or option==3 or option==4 or option==5 or option==6 or option==7 or option==8 or option==9 or option==10 or option==11:\n",
    "                account_No=int(input('enter account number'))\n",
    "                print('welcome to bank what can we help you!')\n",
    "            else:\n",
    "                print('enter required option')\n",
    "        elif menu==7:\n",
    "            option=print('1.my pin 2.reports 3.check_balance 4.manage_favorites 5.transaction_reversal 6.change_language')\n",
    "            option=int(input('enter option'))\n",
    "            if option==1:\n",
    "                print('1.reset_pin/forgot 2.securityQuestion 3.change_pin 4.learn_more')\n",
    "                choice=int(input('enter choice'))\n",
    "                if choice==1:\n",
    "                    newpin=input('enter new pin')\n",
    "                    print(f'pin changed successfully')\n",
    "                elif choice==2:\n",
    "                    question1=input('whats your favourite food')\n",
    "                    question2=input('whats your fathers name')\n",
    "                    print('security_question registered successfully')\n",
    "                elif choice==3:\n",
    "                    change_pin=int(input('enter your new pin'))\n",
    "                    old_pin=int(input('enter your current password'))\n",
    "                    print('pin changed successfully')\n",
    "                elif choice==4:\n",
    "                    print('contact customer care on how to change pin')\n",
    "                else:\n",
    "                    print('wrong option')\n",
    "            elif option==2:\n",
    "                reports=input('enter report')\n",
    "                print('report recieved we gonna help you')\n",
    "            elif option==3:\n",
    "                password=int(input('enter password'))\n",
    "                if password==1234:\n",
    "                    print(f'your balance is {balance}')   \n",
    "                else:\n",
    "                    print('wrong password')\n",
    "            elif option==4:\n",
    "                print('contact customer care to insert favorites')\n",
    "            elif option==5:\n",
    "                if password==1234:\n",
    "                    password=int(input('enter password'))\n",
    "                    print('money reversed')\n",
    "                else:\n",
    "                    print('wrong password')\n",
    "            elif option==6:\n",
    "                languege=str(input('enter languege yuo wanna change'))\n",
    "                print(f'language changed to {languege}')\n",
    "            else:\n",
    "                print('wrong option')\n",
    "        elif menu==8:\n",
    "            invioce_number=int(input('enter invoice number'))\n",
    "            amount=int(input('enter amount'))\n",
    "            print('MANEB payed')\n",
    "        elif menu==10:\n",
    "            print('program exited!')\n",
    "            break\n",
    "        else:\n",
    "            print('invalid input!')\n",
    "else:\n",
    "    print('invalid code!')"
   ]
  },
  {
   "cell_type": "code",
   "execution_count": 99,
   "id": "70c6d3ef-45c2-4806-91ae-adf940a2f53b",
   "metadata": {},
   "outputs": [],
   "source": [
    "def product_s():\n",
    "    products={{101:{'name':'milk','stock':74},102:{'name':'sugar','stock':50},103:{'name':'salt','stock':20}}}\n",
    "    return products"
   ]
  },
  {
   "cell_type": "code",
   "execution_count": 100,
   "id": "abacbcf0-359e-447c-9cfb-e6c5c941c3ce",
   "metadata": {},
   "outputs": [],
   "source": [
    "def add_stock(product_id,quantity):\n",
    "    products=[product_id][stock] +  quantity"
   ]
  },
  {
   "cell_type": "code",
   "execution_count": 101,
   "id": "9c3b7811-1485-4265-8999-7e31d1027d1e",
   "metadata": {},
   "outputs": [],
   "source": [
    "def sell_product(product_id,quantity):\n",
    "    if products[product_id][stock]>=quantity:\n",
    "       products[product-id][stock]-=quantity\n",
    "    else:\n",
    "       print('not enough stock')"
   ]
  },
  {
   "cell_type": "code",
   "execution_count": 102,
   "id": "5b67503f-8346-497f-9502-2c039deffe95",
   "metadata": {},
   "outputs": [],
   "source": [
    "def check_product(product_id):\n",
    "    return products.get(product_id,'product not found')"
   ]
  },
  {
   "cell_type": "code",
   "execution_count": null,
   "id": "19188df4-35c5-447d-b60a-56ba8d5ad0ac",
   "metadata": {},
   "outputs": [],
   "source": [
    "def buy_airtime():\n",
    "    if"
   ]
  }
 ],
 "metadata": {
  "kernelspec": {
   "display_name": "Python 3 (ipykernel)",
   "language": "python",
   "name": "python3"
  },
  "language_info": {
   "codemirror_mode": {
    "name": "ipython",
    "version": 3
   },
   "file_extension": ".py",
   "mimetype": "text/x-python",
   "name": "python",
   "nbconvert_exporter": "python",
   "pygments_lexer": "ipython3",
   "version": "3.13.2"
  }
 },
 "nbformat": 4,
 "nbformat_minor": 5
}
