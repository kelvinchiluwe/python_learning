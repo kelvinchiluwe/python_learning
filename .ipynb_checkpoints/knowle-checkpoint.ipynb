{
 "cells": [
  {
   "cell_type": "code",
   "execution_count": 6,
   "id": "8706c1a9-2254-4619-a70c-3cfb09b17863",
   "metadata": {},
   "outputs": [
    {
     "name": "stdin",
     "output_type": "stream",
     "text": [
      "weight 5\n",
      "height 7\n"
     ]
    },
    {
     "name": "stdout",
     "output_type": "stream",
     "text": [
      "the body mass index 0.10204081632653061 is hevier 5.0 and longer 7.0\n"
     ]
    }
   ],
   "source": [
    "weight=float(input('weight'))\n",
    "height=float(input('height'))\n",
    "BMI=weight/height**2\n",
    "print('the body mass index',BMI,'is hevier',weight,'and longer',height)"
   ]
  },
  {
   "cell_type": "code",
   "execution_count": 3,
   "id": "85c07f8e-b774-4aee-beec-ad2bc0a246d4",
   "metadata": {},
   "outputs": [
    {
     "name": "stdin",
     "output_type": "stream",
     "text": [
      "originalservings 7\n",
      "newservings 7\n",
      "newingredient 6\n"
     ]
    },
    {
     "name": "stdout",
     "output_type": "stream",
     "text": [
      "the adjusted recipe 7 comes from 7 multiplied by 6\n"
     ]
    }
   ],
   "source": [
    "originalsavings=int(input('originalservings'))\n",
    "newservings=int(input('newservings'))\n",
    "newingredient=int(input('newingredient'))\n",
    "print('the adjusted recipe',newservings,'comes from',originalsavings,'multiplied by',newingredient) "
   ]
  },
  {
   "cell_type": "code",
   "execution_count": 4,
   "id": "27449056-cd13-4071-876e-2a77ed213492",
   "metadata": {},
   "outputs": [
    {
     "name": "stdout",
     "output_type": "stream",
     "text": [
      "one hundred!\n"
     ]
    }
   ],
   "source": [
    "value=100\n",
    "value='one hundred'\n",
    "print(value+'!')"
   ]
  },
  {
   "cell_type": "code",
   "execution_count": 24,
   "id": "e9f06d2b-68b4-4497-8d24-497bc4474e8f",
   "metadata": {},
   "outputs": [
    {
     "name": "stdout",
     "output_type": "stream",
     "text": [
      "5\n"
     ]
    }
   ],
   "source": [
    "x=5\n",
    "y=7\n",
    "y=x\n",
    "x=y\n",
    "y=x\n",
    "print(x)\n"
   ]
  },
  {
   "cell_type": "code",
   "execution_count": 22,
   "id": "1807d22a-1afa-4f81-8336-33c9b7ab5087",
   "metadata": {},
   "outputs": [
    {
     "name": "stdout",
     "output_type": "stream",
     "text": [
      "seventy-five\n"
     ]
    }
   ],
   "source": [
    "weight=75.\n",
    "weight='seventy-five'\n",
    "print(weight)"
   ]
  },
  {
   "cell_type": "code",
   "execution_count": 9,
   "id": "1bd4d77d-7993-4d0e-bae1-c8995f95b6da",
   "metadata": {},
   "outputs": [
    {
     "ename": "NameError",
     "evalue": "name 'Country' is not defined",
     "output_type": "error",
     "traceback": [
      "\u001b[1;31m---------------------------------------------------------------------------\u001b[0m",
      "\u001b[1;31mNameError\u001b[0m                                 Traceback (most recent call last)",
      "Cell \u001b[1;32mIn[9], line 3\u001b[0m\n\u001b[0;32m      1\u001b[0m COUNTRY\u001b[38;5;241m=\u001b[39m\u001b[38;5;124m'\u001b[39m\u001b[38;5;124mcanada\u001b[39m\u001b[38;5;124m'\u001b[39m\n\u001b[0;32m      2\u001b[0m country\u001b[38;5;241m=\u001b[39m\u001b[38;5;124m'\u001b[39m\u001b[38;5;124mmexico\u001b[39m\u001b[38;5;124m'\u001b[39m\n\u001b[1;32m----> 3\u001b[0m \u001b[38;5;28mprint\u001b[39m(\u001b[43mCountry\u001b[49m)\n",
      "\u001b[1;31mNameError\u001b[0m: name 'Country' is not defined"
     ]
    }
   ],
   "source": [
    "COUNTRY='canada'\n",
    "country='mexico'\n",
    "print(Country)"
   ]
  },
  {
   "cell_type": "code",
   "execution_count": 13,
   "id": "d8d945db-1540-4fe1-8d35-f73f86c309ca",
   "metadata": {},
   "outputs": [
    {
     "name": "stdout",
     "output_type": "stream",
     "text": [
      "Chemistry 101\n"
     ]
    }
   ],
   "source": [
    "Class='Chemistry 101'\n",
    "print(Class)"
   ]
  },
  {
   "cell_type": "code",
   "execution_count": 15,
   "id": "e820ce3f-c3dc-4f69-8869-901e5e153f74",
   "metadata": {},
   "outputs": [
    {
     "name": "stdout",
     "output_type": "stream",
     "text": [
      "final score:95\n"
     ]
    }
   ],
   "source": [
    "score='95'\n",
    "print('final score:'+score)"
   ]
  },
  {
   "cell_type": "code",
   "execution_count": 30,
   "id": "d6896961-2f88-4efe-ab30-2706d14b5c7a",
   "metadata": {},
   "outputs": [
    {
     "name": "stdout",
     "output_type": "stream",
     "text": [
      "jom 8 True\n"
     ]
    }
   ],
   "source": [
    "name='jom'\n",
    "age=8\n",
    "isstudent=True\n",
    "print(name,+age,isstudent)"
   ]
  },
  {
   "cell_type": "code",
   "execution_count": 33,
   "id": "ab5b4be6-ea7e-4283-9e5e-41fa18cfceb3",
   "metadata": {},
   "outputs": [
    {
     "ename": "SyntaxError",
     "evalue": "invalid syntax (4027541474.py, line 2)",
     "output_type": "error",
     "traceback": [
      "\u001b[1;36m  Cell \u001b[1;32mIn[33], line 2\u001b[1;36m\u001b[0m\n\u001b[1;33m    is-hot=temperature>30\u001b[0m\n\u001b[1;37m    ^\u001b[0m\n\u001b[1;31mSyntaxError\u001b[0m\u001b[1;31m:\u001b[0m invalid syntax\n"
     ]
    }
   ],
   "source": [
    "temperature=28\n",
    "is-hot=temperature>30\n",
    "print(type(is-hot)"
   ]
  },
  {
   "cell_type": "code",
   "execution_count": null,
   "id": "cecdcb7d-db19-4526-a9b5-099bbe2883a6",
   "metadata": {},
   "outputs": [],
   "source": []
  }
 ],
 "metadata": {
  "kernelspec": {
   "display_name": "Python 3 (ipykernel)",
   "language": "python",
   "name": "python3"
  },
  "language_info": {
   "codemirror_mode": {
    "name": "ipython",
    "version": 3
   },
   "file_extension": ".py",
   "mimetype": "text/x-python",
   "name": "python",
   "nbconvert_exporter": "python",
   "pygments_lexer": "ipython3",
   "version": "3.13.2"
  }
 },
 "nbformat": 4,
 "nbformat_minor": 5
}
